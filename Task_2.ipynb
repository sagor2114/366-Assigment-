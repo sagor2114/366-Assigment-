{
  "nbformat": 4,
  "nbformat_minor": 0,
  "metadata": {
    "colab": {
      "name": "Untitled10.ipynb",
      "provenance": []
    },
    "kernelspec": {
      "name": "python3",
      "display_name": "Python 3"
    },
    "language_info": {
      "name": "python"
    }
  },
  "cells": [
    {
      "cell_type": "markdown",
      "metadata": {
        "id": "56GwwIJY-lvl"
      },
      "source": [
        " Name : Loknath Banik Sagor\n",
        " Reg:2017331082\n",
        " "
      ]
    },
    {
      "cell_type": "code",
      "metadata": {
        "colab": {
          "base_uri": "https://localhost:8080/",
          "height": 563
        },
        "id": "ZT0hfq_r9mHW",
        "outputId": "a11672d7-77d1-45a4-9670-5988d87981db"
      },
      "source": [
        "import numpy as np\n",
        "import matplotlib.pyplot as plt\n",
        "import math\n",
        "\n",
        "bits = np.array([1, 0, 0, 1, 0, 1, 0, 1, 1, 0, 1]) \n",
        "Time = 10e-6   \n",
        "bit_rate = 1/Time  \n",
        "Fs = 5*bit_rate    \n",
        "N = len(bits)   \n",
        "T = np.linspace(0,Time,80)\n",
        "\n",
        "x = np.array([])\n",
        "for i in range(N):\n",
        "  temp = bits[i]* np.ones(len(T))\n",
        "  x = np.append(x, temp)\n",
        "t = np.linspace(0,N*Time,len(x))\n",
        "\n",
        "plt.plot(t, x)\n",
        "plt.show()\n",
        "\n",
        "#Line Coding Decoding - Unipolar - Non Return to Zero(NRZ)\n",
        "\n",
        "result = []\n",
        "counter = 0\n",
        "for i in range(len(t)):\n",
        "  if t[i]*bit_rate > counter:\n",
        "    counter = counter + 1\n",
        "    result.append(int(x[i]))\n",
        "\n",
        "print(result)\n",
        "\n",
        "#Block coding 4B/5B with NRZ-I line coding scheme\n",
        "\n",
        "#5 Major Steps: 4B/5B encoding, NRZ-I encoding, Digital Signal, NRZ-I decoding, 4B/5B decoding\n",
        "\n",
        "#Mapping Code\n",
        "\n",
        "mB = 4\n",
        "nB = 5\n",
        "block_coding_mapping_codes = {\n",
        "# encoding map\n",
        "\"0000\": \"11110\",\n",
        "\"0001\": \"01001\",\n",
        "\"0010\": \"10100\",\n",
        "\"0011\": \"10101\",\n",
        "\"0100\": \"01010\",\n",
        "\"0101\": \"01011\",\n",
        "\"0110\": \"01110\",\n",
        "\"0111\": \"01111\",\n",
        "\"1000\": \"10010\",\n",
        "\"1001\": \"10011\",\n",
        "\"1010\": \"10110\",\n",
        "\"1011\": \"10111\",\n",
        "\"1100\": \"11010\",\n",
        "\"1101\": \"11011\",\n",
        "\"1110\": \"11100\",\n",
        "\"1111\": \"11101\",\n",
        "# decoding map\n",
        "\"11110\": \"0000\",\n",
        "\"01001\": \"0001\",\n",
        "\"10100\": \"0010\",\n",
        "\"10101\": \"0011\",\n",
        "\"01010\": \"0100\",\n",
        "\"01011\": \"0101\",\n",
        "\"01110\": \"0110\",\n",
        "\"01111\": \"0111\",\n",
        "\"10010\": \"1000\",\n",
        "\"10011\": \"1001\",\n",
        "\"10110\": \"1010\",\n",
        "\"10111\": \"1011\",\n",
        "\"11010\": \"1100\",\n",
        "\"11011\": \"1101\",\n",
        "\"11100\": \"1110\",\n",
        "\"11101\": \"1111\",\n",
        "\n",
        "}\n",
        "\n",
        "def get_Mapping_Codes(bits):\n",
        "  return block_coding_mapping_codes[\"\".join(map(str, bits))]\n",
        "  \n",
        "'''\n",
        "bits = sequence of bits to encoded using mB/nB\n",
        "'''\n",
        "def get_MB_NB_Encoding(bits, mB, nB):\n",
        "  # If the length of bits is not multiple of mB, appends extra 0's at the end of the bits(optional)\n",
        "  if len(bits) % mB != 0:\n",
        "    # Necessary bit count to make it multiple of mB\n",
        "    extra_len = (((len(bits)// mB) + 1) * mB) - len(bits)\n",
        "    extra = np.array(np.zeros(extra_len), dtype=int)\n",
        "    bits = np.append(bits, extra)\n",
        "  \n",
        "  encoded_bits_str = \"\"\n",
        "  for i in range(0, len(bits), mB):\n",
        "    encoded_bits_str += get_Mapping_Codes(bits[i:i+mB])\n",
        "  \n",
        "  # Convert the encoded bit string to list of bits\n",
        "  encoded_bits_list = list(encoded_bits_str)\n",
        "  encoded_bits_map = map(int, encoded_bits_list)\n",
        "  encoded_bits = np.array(list(encoded_bits_map))\n",
        "  return encoded_bits\n",
        "\n",
        "'''\n",
        "bits = sequence of bits to decoded using mB/nB\n",
        "'''\n",
        "def get_NB_MB_Decoding(bits, mB, nB):\n",
        "  if len(bits) % nB != 0:\n",
        "    print(\"Invalid length, Decoding Not possible!\")\n",
        "    return\n",
        "  decoded_bits_str = \"\"\n",
        "  for i in range(0, len(bits), nB):\n",
        "    decoded_bits_str += get_Mapping_Codes(bits[i:i+nB])\n",
        "  # Convert the decoded bit string to list of bits\n",
        "  decoded_bits_list = list(decoded_bits_str)\n",
        "  decoded_bits_map = map(int, decoded_bits_list)\n",
        "  decoded_bits = np.array(list(decoded_bits_map))\n",
        "  return decoded_bits\n",
        "\n",
        "#4B/5B Encoding\n",
        "\n",
        "  bits = np.array([1, 0, 1, 1, 0, 1, 0, 0, 1, 0, 1], dtype=int) \n",
        "bits = get_MB_NB_Encoding(bits, mB, nB)\n",
        "\n",
        "#NRZ-I Line Coding Encoding\n",
        "\n",
        "Time = 10e-6   \n",
        "bit_rate = 1/Time  \n",
        "Fs = 4*bit_rate    \n",
        "N = len(bits)   \n",
        "T = np.linspace(0,Time, mB * 80)\n",
        "\n",
        "x = np.array([])\n",
        "last_bit = 1\n",
        "for i in range(N):\n",
        "  if bits[i] == 1:\n",
        "    temp = (-1) * last_bit * np.ones(len(T))\n",
        "    last_bit = -last_bit\n",
        "  else:\n",
        "    temp = last_bit * np.ones(len(T))\n",
        "  x = np.append(x, temp)\n",
        "t = np.linspace(0,N*Time,len(x))\n",
        "\n",
        "plt.plot(t, x)\n",
        "plt.show()\n",
        "\n",
        "#NRZ-I Line Coding Decoding\n",
        "\n",
        "result = []\n",
        "counter = 0\n",
        "last_bit = 1\n",
        "for i in range(len(t)):\n",
        "  if t[i]*bit_rate > counter:\n",
        "    counter = counter + 1\n",
        "    if x[i] != last_bit:\n",
        "      result.append(1)\n",
        "      last_bit=-last_bit\n",
        "    else:\n",
        "      result.append(0)\n",
        "\n",
        "print(result)\n",
        "\n",
        "#4B/5B Decoding\n",
        "\n",
        "decoded_result = get_NB_MB_Decoding(result, mB, nB)\n",
        "print(decoded_result)"
      ],
      "execution_count": 1,
      "outputs": [
        {
          "output_type": "display_data",
          "data": {
            "image/png": "[encoded data removed]",
            "text/plain": [
              "<Figure size 432x288 with 1 Axes>"
            ]
          },
          "metadata": {
            "needs_background": "light"
          }
        },
        {
          "output_type": "stream",
          "name": "stdout",
          "text": [
            "[1, 0, 0, 1, 0, 1, 0, 1, 1, 0, 1]\n"
          ]
        },
        {
          "output_type": "display_data",
          "data": {
            "image/png": "[encoded data removed]",
            "text/plain": [
              "<Figure size 432x288 with 1 Axes>"
            ]
          },
          "metadata": {
            "needs_background": "light"
          }
        },
        {
          "output_type": "stream",
          "name": "stdout",
          "text": [
            "[1, 0, 0, 1, 1, 0, 1, 0, 1, 1, 1, 0, 1, 1, 0]\n",
            "[1 0 0 1 0 1 0 1 1 0 1 0]\n"
          ]
        }
      ]
    },
    {
      "cell_type": "markdown",
      "metadata": {
        "id": "INzRk8V9-fB9"
      },
      "source": [
        ""
      ]
    },
    {
      "cell_type": "markdown",
      "metadata": {
        "id": "fLgEjAYA-gAc"
      },
      "source": [
        ""
      ]
    },
    {
      "cell_type": "markdown",
      "metadata": {
        "id": "K_7Nym0b-gTx"
      },
      "source": [
        ""
      ]
    }
  ]
}